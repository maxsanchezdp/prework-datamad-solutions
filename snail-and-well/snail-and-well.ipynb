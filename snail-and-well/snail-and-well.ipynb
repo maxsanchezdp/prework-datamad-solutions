{
 "cells": [
  {
   "cell_type": "markdown",
   "metadata": {},
   "source": [
    "# Snail and well\n",
    "\n",
    "A snail falls at the bottom of a 125 cm well. Each day the snail rises 30 cm. But at night, while sleeping, slides 20 cm because the walls are wet. How many days does it take to escape from the well?\n",
    "\n",
    "TIP: http://puzzles.nigelcoldwell.co.uk/sixtytwo.htm"
   ]
  },
  {
   "cell_type": "markdown",
   "metadata": {},
   "source": [
    "## Solución"
   ]
  },
  {
   "cell_type": "code",
   "execution_count": 7,
   "metadata": {},
   "outputs": [
    {
     "name": "stdout",
     "output_type": "stream",
     "text": [
      "Days =  11\n"
     ]
    }
   ],
   "source": [
    "# Assign problem data to variables with representative names\n",
    "# well height, daily advance, night retreat, accumulated distance\n",
    "well_height=125\n",
    "daily_advance=30\n",
    "night_retreat=-20\n",
    "accumulated_distance=0\n",
    "\n",
    "# Assign 0 to the variable that represents the solution\n",
    "days=0\n",
    "\n",
    "# Write the code that solves the problem\n",
    "while accumulated_distance <= well_height:\n",
    "    days+=1\n",
    "    accumulated_distance+=daily_advance\n",
    "    if accumulated_distance >= well_height:#checks if the snail has already reached the top of the well\n",
    "        break                              #if it has, then it breaks the loop so we don't substract the night retreat again\n",
    "    else:\n",
    "        accumulated_distance+=night_retreat #if it hasn't, it substracts the night retreat from the accumulated distance\n",
    "    \n",
    "\n",
    "# Print the result with print('Days =', days)\n",
    "print('Days = ',days)"
   ]
  },
  {
   "cell_type": "markdown",
   "metadata": {},
   "source": [
    "**Expected output**: \n",
    "```\n",
    "Days = 11\n",
    "```"
   ]
  },
  {
   "cell_type": "markdown",
   "metadata": {},
   "source": [
    "## Goals\n",
    "\n",
    "1. Treatment of variables\n",
    "2. Use of loop **while**\n",
    "3. Use of conditional **if-else**\n",
    "4. Print in console"
   ]
  },
  {
   "cell_type": "markdown",
   "metadata": {},
   "source": [
    "## Bonus\n",
    "The distance traveled by the snail is now defined by a list.\n",
    "```\n",
    "advance_cm = [30, 21, 33, 77, 44, 45, 23, 45, 12, 34, 55]\n",
    "```\n",
    "How long does it take to raise the well?\n",
    "\n",
    "What is its maximum displacement in one day? And its minimum?\n",
    "\n",
    "What is its average speed during the day?\n",
    "\n",
    "What is the standard deviation of its displacement during the day?"
   ]
  },
  {
   "cell_type": "code",
   "execution_count": 8,
   "metadata": {},
   "outputs": [
    {
     "name": "stdout",
     "output_type": "stream",
     "text": [
      "Days =  6\n"
     ]
    }
   ],
   "source": [
    "# Assign problem data to variables with representative names\n",
    "# well height, daily advance, night retreat, accumulated distance\n",
    "well_height=125\n",
    "advance_cm = [30, 21, 33, 77, 44, 45, 23, 45, 12, 34, 55]\n",
    "night_retreat=-20\n",
    "daily_displacement=[]\n",
    "\n",
    "# Assign 0 to the variable that represents the solution\n",
    "days=0\n",
    "\n",
    "# Write the code that solves the problem\n",
    "for cm in advance_cm:\n",
    "  if (sum(daily_displacement) + cm) > well_height: #checks if snail has reached top of the well\n",
    "    days+=1\n",
    "    daily_displacement.append(well_height - sum(daily_displacement)) #if so, only adds the remaining distance to the top of the well\n",
    "    break\n",
    "  else:\n",
    "    days+=1\n",
    "    daily_displacement.append(cm + night_retreat) #if not, adds the whole advance\n",
    "    \n",
    "\n",
    "# Print the result with print('Days =', days)\n",
    "print('Days = ',days)"
   ]
  },
  {
   "cell_type": "markdown",
   "metadata": {},
   "source": [
    "**Expected output**: \n",
    "```\n",
    "Days = 6\n",
    "```"
   ]
  },
  {
   "cell_type": "code",
   "execution_count": 10,
   "metadata": {},
   "outputs": [
    {
     "name": "stdout",
     "output_type": "stream",
     "text": [
      "The maximum advance in a day is: 77 cm\n",
      "The minimum advance in a day is: 12 cm\n"
     ]
    }
   ],
   "source": [
    "# What is its maximum displacement in a day? And its minimum?\n",
    "print(\"The maximum advance in a day is:\",max(advance_cm),\"cm\")\n",
    "print(\"The minimum advance in a day is:\",min(advance_cm),\"cm\")"
   ]
  },
  {
   "cell_type": "markdown",
   "metadata": {},
   "source": [
    "**Expected output**: \n",
    "```\n",
    "77 12\n",
    "```"
   ]
  },
  {
   "cell_type": "code",
   "execution_count": 11,
   "metadata": {},
   "outputs": [
    {
     "name": "stdout",
     "output_type": "stream",
     "text": [
      "The average daily advance is: 38.09090909090909 cm\n"
     ]
    }
   ],
   "source": [
    "# What is its average progress?\n",
    "avg_advance=sum(advance_cm) / len(advance_cm)\n",
    "print(\"The average daily advance is:\",avg_advance,\"cm\")"
   ]
  },
  {
   "cell_type": "markdown",
   "metadata": {},
   "source": [
    "**Expected output**: \n",
    "```\n",
    "38.09090909090909\n",
    "```"
   ]
  },
  {
   "cell_type": "code",
   "execution_count": 16,
   "metadata": {},
   "outputs": [
    {
     "name": "stdout",
     "output_type": "stream",
     "text": [
      "The standard deviation for the daily advance is:  17.159437082600803\n"
     ]
    }
   ],
   "source": [
    "# What is the standard deviation of your displacement during the day?\n",
    "var_advance_cm = 0\n",
    "for i in advance_cm:\n",
    "    var_advance_cm+=((i-avg_advance)**2)/(len(advance_cm)) \n",
    "    \n",
    "stdev_advance_cm = (var_advance_cm)**(1/2)\n",
    "\n",
    "print (\"The standard deviation for the daily advance is: \", stdev_advance_cm)"
   ]
  },
  {
   "cell_type": "markdown",
   "metadata": {},
   "source": [
    "**Expected output**: \n",
    "```\n",
    "17.159437082600803\n",
    "```"
   ]
  }
 ],
 "metadata": {
  "kernelspec": {
   "display_name": "Python 3",
   "language": "python",
   "name": "python3"
  },
  "language_info": {
   "codemirror_mode": {
    "name": "ipython",
    "version": 3
   },
   "file_extension": ".py",
   "mimetype": "text/x-python",
   "name": "python",
   "nbconvert_exporter": "python",
   "pygments_lexer": "ipython3",
   "version": "3.7.3"
  }
 },
 "nbformat": 4,
 "nbformat_minor": 2
}
