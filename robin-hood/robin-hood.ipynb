{
 "cells": [
  {
   "cell_type": "markdown",
   "metadata": {},
   "source": [
    "# Robin Hood\n",
    "## Intro\n",
    "We are in a competition to win the archery contest in Sherwood. With our bow and arrows we shoot on a target and try to hit as close as possible to the center.\n",
    "\n",
    "The center of the target is represented by the values (0, 0) on the coordinate axes.\n",
    "\n",
    "![](images/arrows.jpg)\n",
    "\n",
    "## Goals:\n",
    "* data structures: lists, sets, tuples\n",
    "* logical operators: if-elif-else\n",
    "* loop: while/for\n",
    "* minimum (optional sorting)\n",
    "\n",
    "## Description:\n",
    "In the 2-dimensional space, a point can be defined by a pair of values that correspond to the horizontal coordinate (x) and the vertical coordinate (y). The space can be divided into 4 zones (quadrants): Q1, Q2, Q3, Q4. Whose single point of union is the point (0, 0).\n",
    "\n",
    "If a point is in Q1 both its x coordinate and the y are positive. I leave a link to wikipedia to familiarize yourself with these quadrants.\n",
    "\n",
    "https://en.wikipedia.org/wiki/Cartesian_coordinate_system\n",
    "\n",
    "https://en.wikipedia.org/wiki/Euclidean_distance\n",
    "\n",
    "## Shots\n",
    "```\n",
    "points = [(4, 5), (-0, 2), (4, 7), (1, -3), (3, -2), (4, 5),\n",
    "          (3, 2), (5, 7), (-5, 7), (2, 2), (-4, 5), (0, -2),\n",
    "          (-4, 7), (-1, 3), (-3, 2), (-4, -5), (-3, 2),\n",
    "          (5, 7), (5, 7), (2, 2), (9, 9), (-8, -9)]\n",
    "```\n",
    "\n",
    "## Tasks\n",
    "1. Robin Hood is famous for hitting an arrow with another arrow. Did you get it?\n",
    "2. Calculate how many arrows have fallen in each quadrant.\n",
    "3. Find the point closest to the center. Calculate its distance to the center. \n",
    "4. If the target has a radius of 9, calculate the number of arrows that must be picked up in the forest."
   ]
  },
  {
   "cell_type": "code",
   "execution_count": 1,
   "metadata": {},
   "outputs": [],
   "source": [
    "# Variables\n",
    "\n",
    "points = [(4, 5), (-0, 2), (4, 7), (1, -3), (3, -2), (4, 5),\n",
    "          (3, 2), (5, 7), (-5, 7), (2, 2), (-4, 5), (0, -2),\n",
    "          (-4, 7), (-1, 3), (-3, 2), (-4, -5), (-3, 2),\n",
    "          (5, 7), (5, 7), (2, 2), (9, 9), (-8, -9)]"
   ]
  },
  {
   "cell_type": "code",
   "execution_count": 2,
   "metadata": {},
   "outputs": [
    {
     "name": "stdout",
     "output_type": "stream",
     "text": [
      "You da real Robin Hood. You hit 5 arrows with another arrow.\n"
     ]
    }
   ],
   "source": [
    "# 1. Robin Hood is famous for hitting an arrow with another arrow. Did you get it?\n",
    "uniques=set(points)\n",
    "\n",
    "if len(points) != len(uniques):\n",
    "    print (\"You da real Robin Hood. You hit\", len(points)-len(uniques), \"arrows with another arrow.\")"
   ]
  },
  {
   "cell_type": "markdown",
   "metadata": {},
   "source": [
    "**Expected output**:\n",
    "```\n",
    "True\n",
    "```"
   ]
  },
  {
   "cell_type": "code",
   "execution_count": 3,
   "metadata": {},
   "outputs": [
    {
     "name": "stdout",
     "output_type": "stream",
     "text": [
      "10 Arrows have fallen in Q1\n",
      "6 Arrows have fallen in Q2\n",
      "2 Arrows have fallen in Q3\n",
      "2 Arrows have fallen in Q4\n",
      "1 Arrows have fallen between Q1 and Q2\n",
      "0 Arrows have fallen between Q2 and Q3\n",
      "1 Arrows have fallen between Q3 and Q4\n",
      "0 Arrows have fallen between Q4 and Q1\n"
     ]
    }
   ],
   "source": [
    "# 2. Calculate how many arrows have fallen in each quadrant.\n",
    "\n",
    "Q1=0\n",
    "Q2=0\n",
    "Q3=0\n",
    "Q4=0\n",
    "Q12=0\n",
    "Q23=0\n",
    "Q34=0\n",
    "Q41=0\n",
    "\n",
    "for p in points:\n",
    "    if (p[0] > 0) & (p[1] > 0):\n",
    "        Q1+=1\n",
    "    elif (p[0] < 0) & (p[1] > 0):\n",
    "        Q2+=1\n",
    "    elif (p[0] < 0) & (p[1] < 0):\n",
    "        Q3+=1\n",
    "    elif (p[0] > 0) & (p[1] < 0):\n",
    "        Q4+=1\n",
    "    elif (p[0] == 0) & (p[1] > 0):\n",
    "        Q12+=1\n",
    "    elif (p[0] < 0) & (p[1] == 0):\n",
    "        Q23+=1\n",
    "    elif (p[0] == 0) & (p[1] < 0):\n",
    "        Q34+=1\n",
    "    elif (p[0] > 0) & (p[1] == 0):\n",
    "        Q41+=1\n",
    "    \n",
    "\n",
    "print(Q1, \"Arrows have fallen in Q1\")\n",
    "print(Q2, \"Arrows have fallen in Q2\")\n",
    "print(Q3, \"Arrows have fallen in Q3\")\n",
    "print(Q4, \"Arrows have fallen in Q4\")\n",
    "print(Q12, \"Arrows have fallen between Q1 and Q2\")\n",
    "print(Q23, \"Arrows have fallen between Q2 and Q3\")\n",
    "print(Q34, \"Arrows have fallen between Q3 and Q4\")\n",
    "print(Q41, \"Arrows have fallen between Q4 and Q1\")"
   ]
  },
  {
   "cell_type": "markdown",
   "metadata": {},
   "source": [
    "**Expected output**:\n",
    "```\n",
    "(10, 6, 2, 2)\n",
    "```"
   ]
  },
  {
   "cell_type": "code",
   "execution_count": 4,
   "metadata": {},
   "outputs": [
    {
     "name": "stdout",
     "output_type": "stream",
     "text": [
      "The points that are closer to the center are:\n",
      "(0, 2) , distance: 2.0\n",
      "(0, -2) , distance: 2.0\n"
     ]
    }
   ],
   "source": [
    "# 3. Find the point closest to the center. Calculate its distance to the center\n",
    "# Defining a function that calculates the distance to the center can help.\n",
    "def distance(x,y):\n",
    "    distance=((x**2)+(y**2))**(1/2)\n",
    "    return distance\n",
    "\n",
    "closest=[]\n",
    "\n",
    "for p in points:\n",
    "    if len(closest) < 1:\n",
    "        closest.append(p)\n",
    "    elif distance(p[0],p[1]) == distance(closest[len(closest)-1][0],closest[len(closest)-1][1]):\n",
    "        closest.append(p)\n",
    "    elif distance(p[0],p[1]) < distance(closest[len(closest)-1][0],closest[len(closest)-1][1]):\n",
    "        closest=[]\n",
    "        closest.append(p)\n",
    "\n",
    "print (\"The points that are closer to the center are:\")\n",
    "for c in closest:\n",
    "    print(c,\", distance:\",distance(c[0],c[1]))\n"
   ]
  },
  {
   "cell_type": "markdown",
   "metadata": {},
   "source": [
    "**Expected output**:\n",
    "```\n",
    "(0, 2)\n",
    "2.0\n",
    "```"
   ]
  },
  {
   "cell_type": "code",
   "execution_count": 5,
   "metadata": {},
   "outputs": [
    {
     "name": "stdout",
     "output_type": "stream",
     "text": [
      "You need to pick up 2 arrows in the forest\n"
     ]
    }
   ],
   "source": [
    "# 4. If the target has a radius of 9, calculate the number of arrows that \n",
    "# must be picked up in the forest.\n",
    "forest=0\n",
    "for p in points:\n",
    "    if distance(p[0],p[1]) > 9:\n",
    "        forest+=1\n",
    "\n",
    "print (\"You need to pick up\", forest, \"arrows in the forest\")"
   ]
  },
  {
   "cell_type": "markdown",
   "metadata": {},
   "source": [
    "**Expected output**:\n",
    "```\n",
    "[(9, 9), (-8, -9)]\n",
    "2\n",
    "```"
   ]
  },
  {
   "cell_type": "code",
   "execution_count": null,
   "metadata": {},
   "outputs": [],
   "source": []
  }
 ],
 "metadata": {
  "kernelspec": {
   "display_name": "Python 3",
   "language": "python",
   "name": "python3"
  },
  "language_info": {
   "codemirror_mode": {
    "name": "ipython",
    "version": 3
   },
   "file_extension": ".py",
   "mimetype": "text/x-python",
   "name": "python",
   "nbconvert_exporter": "python",
   "pygments_lexer": "ipython3",
   "version": "3.7.3"
  }
 },
 "nbformat": 4,
 "nbformat_minor": 2
}
